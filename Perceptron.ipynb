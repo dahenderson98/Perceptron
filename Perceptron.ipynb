{
  "nbformat": 4,
  "nbformat_minor": 0,
  "metadata": {
    "colab": {
      "provenance": []
    },
    "kernelspec": {
      "name": "python3",
      "display_name": "Python 3"
    },
    "language_info": {
      "name": "python"
    }
  },
  "cells": [
    {
      "cell_type": "code",
      "execution_count": null,
      "metadata": {
        "id": "rrSoH674tRGq"
      },
      "outputs": [],
      "source": [
        "# imports\n",
        "from sklearn.base import BaseEstimator, ClassifierMixin\n",
        "from sklearn.linear_model import Perceptron\n",
        "from sklearn.preprocessing import LabelEncoder\n",
        "import numpy as np\n",
        "import matplotlib.pyplot as plt\n",
        "from scipy.io import arff\n",
        "import pandas as pd"
      ]
    },
    {
      "cell_type": "markdown",
      "source": [
        "**1. Correctly implement and submit your own code for the perceptron learning algorithm.**"
      ],
      "metadata": {
        "id": "y_IDd0UltcQS"
      }
    },
    {
      "cell_type": "code",
      "source": [
        "class PerceptronClassifier(BaseEstimator,ClassifierMixin):\n",
        "\n",
        "    def __init__(self, lr=.1, shuffle=True):\n",
        "        \"\"\" \n",
        "            Initialize class with chosen hyperparameters.\n",
        "        Args:\n",
        "            lr (float): A learning rate / step size.\n",
        "            shuffle: Whether to shuffle the training data each epoch. DO NOT \n",
        "            SHUFFLE for evaluation / debug datasets.\n",
        "        \"\"\"\n",
        "        self.lr = lr\n",
        "        self.shuffle = shuffle\n",
        "        self.epochs_count = 0\n",
        "        self.missclassifications = []\n",
        "\n",
        "    def fit(self, X, y, initial_weights=None, weights_given = False, Deterministic=None):\n",
        "        \"\"\" \n",
        "            Fit the data; run the algorithm and adjust the weights to find a \n",
        "            good solution\n",
        "        Args:\n",
        "            X (array-like): A 2D numpy array with the training data, excluding\n",
        "            targets\n",
        "            y (array-like): A 2D numpy array with the training targets\n",
        "            initial_weights (array-like): allows the user to provide initial \n",
        "            weights\n",
        "        Returns:\n",
        "            self: this allows this to be chained, e.g. model.fit(X,y).predict(X_test)\n",
        "        \"\"\"\n",
        "        # Allow the model to train for a maximum of 100 epochs if deterministic ephoc number is not given\n",
        "        set_num_epochs = True\n",
        "        if Deterministic == None:\n",
        "          set_num_epochs = False\n",
        "          Deterministic = 100\n",
        "          best_accuracy_so_far = 0\n",
        "          epochs_w_o_improvement = 0\n",
        "          # Divide the data into training (70%) and test (30%) sets\n",
        "          X, y, self.test_data, self.test_targets = self.training_test_split(X, y)\n",
        "\n",
        "\n",
        "        # Append bias weights to training data rows\n",
        "        X_biased = np.append(X, np.ones((np.shape(X)[0], 1)), 1)\n",
        "        self.training_data, self.training_targets = X_biased, y\n",
        "\n",
        "        # Initialize weights if not provided\n",
        "        if weights_given == False:\n",
        "          self.weights = self.initialize_weights()\n",
        "        else:\n",
        "          self.weights = initial_weights\n",
        "        \n",
        "        for epoch in range(Deterministic):\n",
        "          # Keep track of previous weights to revert back to if there is no improvement for the next 5 epochs\n",
        "          epoch_starting_weights = self.weights.copy()\n",
        "\n",
        "          # Shuffle data if required, each epoch\n",
        "          if self.shuffle:\n",
        "            self.training_data, self.training_targets = self._shuffle_data(X_biased, y)\n",
        "\n",
        "          # Train model on data, row by row, updating weight vector according by stochastic gradient descent ( Delta-W_i = lr * (target - output) * W_i)\n",
        "          i = 0\n",
        "          length = np.shape(self.training_data)[0]\n",
        "          while i < length:\n",
        "            net = np.dot(self.training_data[i], self.weights)\n",
        "            Output = 0 if net <= 0 else 1\n",
        "            Delta_W_i = np.array([self.lr * (self.training_targets[i] - Output) * x for x in self.training_data[i]]).reshape(-1,1)\n",
        "            self.weights = self.weights + Delta_W_i\n",
        "            i += 1\n",
        "\n",
        "          # Stopping Criteria: if no improvement in accuracy is recorded for 5 consecutive epochs, revert to weights from 5 epochs ago, halt training\n",
        "          if set_num_epochs == False:\n",
        "            accuracy = float(self.score(self.test_data, self.test_targets))\n",
        "            if accuracy <= best_accuracy_so_far:\n",
        "              epochs_w_o_improvement += 1\n",
        "              if epochs_w_o_improvement == 1:\n",
        "                reverted_weights = epoch_starting_weights\n",
        "            else:\n",
        "              epochs_w_o_improvement = 0\n",
        "              best_accuracy_so_far = accuracy\n",
        "\n",
        "          self.epochs_count += 1\n",
        "          if set_num_epochs == False and epochs_w_o_improvement == 5:\n",
        "            self.weights = reverted_weights\n",
        "            break\n",
        "          \n",
        "        if set_num_epochs == False:\n",
        "          # Remove bias weights from training data for final training accuracy scoring, and bias weights are always added to datasets in the score() function\n",
        "          self.best_training_accuracy = float(self.score(self.training_data[:,:-1], self.training_targets))\n",
        "          self.best_test_accuracy = best_accuracy_so_far\n",
        "\n",
        "        return self\n",
        "\n",
        "    def predict(self, X):\n",
        "        \"\"\" \n",
        "            Predict all classes for a dataset X\n",
        "        Args:\n",
        "            X (array-like): A 2D numpy array with the training data, excluding \n",
        "            targets\n",
        "        Returns:\n",
        "            array, shape (n_samples,)\n",
        "                Predicted target values per element in X.\n",
        "        \"\"\"\n",
        "        return np.array( [(0 if np.dot(X[i,:], self.weights) <= 0 else 1) for i in range(np.shape(X)[0])] )\n",
        "\n",
        "    # Creates weight vector with random values between -1 inclusive and 1 inclusive\n",
        "    def initialize_weights(self):\n",
        "        \"\"\" Initialize weights for perceptron. Don't forget the bias!\n",
        "        Returns:\n",
        "        \"\"\"\n",
        "        min_val, max_val = -1, 1\n",
        "        range_size = max_val - min_val\n",
        "        return (np.random.rand(np.shape(self.training_data)[1], 1) * range_size + min_val).reshape(-1,1)\n",
        "        #return (np.random.rand(1, np.shape(self.training_data)[1]) * range_size + min_val).reshape(1,-1)\n",
        "\n",
        "    def score(self, X, y):\n",
        "        \"\"\" \n",
        "            Return accuracy of model on a given dataset. Must implement own \n",
        "            score function.\n",
        "        Args:\n",
        "            X (array-like): A 2D numpy array with data, excluding targets\n",
        "            y (array-like): A 2D numpy array with targets\n",
        "        Returns:\n",
        "            score : float\n",
        "                Mean accuracy of self.predict(X) wrt. y.\n",
        "        \"\"\"\n",
        "        # Append bias weights to training data rows\n",
        "        X = np.append(X, np.ones((np.shape(X)[0], 1)), 1)\n",
        "        self.training_data, self.training_targets = X, y\n",
        "\n",
        "        predictions = self.predict(X)\n",
        "        \n",
        "        accuracy = np.mean([1 if predictions[i] == y[i] else 0 for i in range(0, np.shape(y)[0])])\n",
        "        # Keep track of misclassification counts and total number of data points in a tuple \n",
        "        self.missclassifications.append(1.0 - accuracy)\n",
        "        return \"{:.2f}\".format( accuracy )\n",
        "\n",
        "    def training_test_split(self, X, y):\n",
        "      X_shuffled, y_shuffled = self._shuffle_data(X, y)\n",
        "      y_shuffled = y_shuffled.reshape(-1,1)\n",
        "\n",
        "      composite = np.concatenate((X_shuffled, y_shuffled), 1)\n",
        "      rowC = np.shape(composite)[0]\n",
        "      splitPos = int(0.7 * rowC)\n",
        "      training = composite[:splitPos, :]\n",
        "      test = composite[splitPos:, :]\n",
        "      \n",
        "      return training[:, :-1], training[:,-1].reshape(-1,1), test[:, :-1], test[:,-1].reshape(-1,1)\n",
        "\n",
        "    def _shuffle_data(self, X, y):\n",
        "        \"\"\" \n",
        "            Shuffle the data! This _ prefix suggests that this method should \n",
        "            only be called internally.\n",
        "            It might be easier to concatenate X & y and shuffle a single 2D \n",
        "            array, rather than shuffling X and y exactly the same way, \n",
        "            independently.\n",
        "        \"\"\"\n",
        "        composite = np.concatenate((X, y), 1)\n",
        "        rowC = np.shape(composite)[0]\n",
        "        shuffled = np.zeros(np.shape(composite))\n",
        "        for i in range(0, rowC):\n",
        "          rand = np.random.randint(np.shape(composite)[0])\n",
        "          shuffled[i][:] = composite[rand][:]\n",
        "          composite = np.delete(composite, rand, 0)\n",
        "        return shuffled[:,:-1], shuffled[:,-1]\n",
        "\n",
        "    ### Not required by sk-learn but required by us for grading. Returns the weights.\n",
        "    def get_weights(self):\n",
        "        return self.weights\n",
        "\n",
        "    def get_epochs_count(self):\n",
        "      return self.epochs_count\n",
        "\n",
        "    def get_training_accuracy(self):\n",
        "      return self.best_training_accuracy\n",
        "\n",
        "    def get_test_accuracy(self):\n",
        "      return self.best_test_accuracy\n",
        "\n",
        "    def get_missclassifications(self):\n",
        "      return self.missclassifications"
      ],
      "metadata": {
        "id": "O54USjIAtkeW"
      },
      "execution_count": null,
      "outputs": []
    },
    {
      "cell_type": "markdown",
      "source": [
        "**1.1 Debug and Evaluation**\n",
        "\n",
        "Use your perceptron code first to solve the Debug data. We provide you with several parameters, and you should be able to replicate our results every time. When you are confident your code is correct, run your perceptron on the Evaluation data with the same parameters.\n",
        "\n",
        "Debug and Evaluate your model using the parameters below\n",
        "\n",
        "Learning Rate = 0.1 \\ Deterministic = 10 [This means run it 10 epochs and should be the same everytime you run it] \\ Shuffle = False \\ Initial Weights = All zeros"
      ],
      "metadata": {
        "id": "T9RssXfFtfjf"
      }
    },
    {
      "cell_type": "markdown",
      "source": [
        "**1.1.1 (20%) Debug**\n",
        "\n",
        "Debug your model by running it on the debug dataset\n",
        "\n",
        "Expected Results:\n",
        "\n",
        "Accuracy = [0.88]\\ Final Weights = [-0.23 0.18 -0.1 ]"
      ],
      "metadata": {
        "id": "aYBB07Rztf00"
      }
    },
    {
      "cell_type": "code",
      "source": [
        "# Load debug data\n",
        "!curl -o debug_data.arff https://raw.githubusercontent.com/cs472ta/CS472/master/datasets/linsep2nonorigin.arff\n",
        "debug_data = np.array(arff.loadarff('debug_data.arff')[0].tolist(), dtype=np.double)\n",
        "X, y = debug_data[:,:-1], debug_data[:,-1].reshape(-1,1)"
      ],
      "metadata": {
        "colab": {
          "base_uri": "https://localhost:8080/"
        },
        "id": "sQdicvwURv7F",
        "outputId": "d4e32ca3-c6d3-49af-a5cf-791f8533dbed"
      },
      "execution_count": null,
      "outputs": [
        {
          "output_type": "stream",
          "name": "stdout",
          "text": [
            "  % Total    % Received % Xferd  Average Speed   Time    Time     Time  Current\n",
            "                                 Dload  Upload   Total   Spent    Left  Speed\n",
            "\r  0     0    0     0    0     0      0      0 --:--:-- --:--:-- --:--:--     0\r100   197  100   197    0     0   2525      0 --:--:-- --:--:-- --:--:--  2525\n"
          ]
        }
      ]
    },
    {
      "cell_type": "code",
      "source": [
        "# Train on debug data\n",
        "p = PerceptronClassifier(lr = 0.1, shuffle = False)\n",
        "_ = p.fit(X, y, initial_weights = np.zeros((np.shape(X)[1]+1, 1)), weights_given=True, Deterministic=10)\n",
        "\n",
        "# Have your code print your accuracy and weights\n",
        "print(\"Accuracy: [\",p.score(X, y),\"]\")\n",
        "print(\"Final Weights:\",np.transpose(p.get_weights()))"
      ],
      "metadata": {
        "id": "M8K77QfwuF4E",
        "colab": {
          "base_uri": "https://localhost:8080/"
        },
        "outputId": "87d85833-f52d-4b4c-b56e-638dde80df96"
      },
      "execution_count": null,
      "outputs": [
        {
          "output_type": "stream",
          "name": "stdout",
          "text": [
            "Accuracy: [ 0.88 ]\n",
            "Final Weights: [[-0.23  0.18 -0.1 ]]\n"
          ]
        }
      ]
    },
    {
      "cell_type": "markdown",
      "source": [
        "Discussion:\n",
        "I created a perceptron that randomly sorts the rows of a dataset (unless specified otherwise), and creates an initial weight vector of random values between -1 and 1 (unless specified otherwise). The perceptron reads in data from a .arff file, divides into training and test sets by a 70-30 random split, separates the training target column from the rest of the training data (unless specified otherwise, and trains based on those sets of training data. Unless given a specified number of epochs to run for, the perceptron continues to train on the dataset until there is no improvement of accuracy on the test set for 5 consecutive epochs, or for a maximum of 100 epochs."
      ],
      "metadata": {
        "id": "owg8U3GbuqbV"
      }
    },
    {
      "cell_type": "markdown",
      "source": [
        "**1.1.2 (20%) Evaluation**\n",
        "\n",
        "We will evaluate your model based on it's performance on the evaluation dataset. Use the same parameters as the debug dataset"
      ],
      "metadata": {
        "id": "r1rfa0ZetgD6"
      }
    },
    {
      "cell_type": "code",
      "source": [
        "# Load evaluation data\n",
        "!curl -o eval_data.arff https://raw.githubusercontent.com/cs472ta/CS472/master/datasets/data_banknote_authentication.arff\n",
        "eval_data = np.array(arff.loadarff('eval_data.arff')[0].tolist(), dtype=np.double)\n",
        "X, y = eval_data[:,:-1], eval_data[:,-1].reshape(-1,1)"
      ],
      "metadata": {
        "id": "nvCfSvnISLC5",
        "colab": {
          "base_uri": "https://localhost:8080/"
        },
        "outputId": "54a24650-0a72-47ec-d5dc-675c12bfadb3"
      },
      "execution_count": null,
      "outputs": [
        {
          "output_type": "stream",
          "name": "stdout",
          "text": [
            "  % Total    % Received % Xferd  Average Speed   Time    Time     Time  Current\n",
            "                                 Dload  Upload   Total   Spent    Left  Speed\n",
            "\r  0     0    0     0    0     0      0      0 --:--:-- --:--:-- --:--:--     0\r100 46685  100 46685    0     0   670k      0 --:--:-- --:--:-- --:--:--  680k\n"
          ]
        }
      ]
    },
    {
      "cell_type": "code",
      "source": [
        "# Train on evaluation data\n",
        "p = PerceptronClassifier(lr = 0.1, shuffle = False)\n",
        "_ = p.fit(X, y, np.zeros((np.shape(X)[1]+1, 1)), weights_given=True, Deterministic=10)\n",
        "\n",
        "# Have your code print your accuracy and weights\n",
        "print(\"Accuracy: [\",p.score(X, y),\"]\")\n",
        "print(\"Final Weights:\",np.transpose(p.get_weights()))"
      ],
      "metadata": {
        "id": "3V7Nqdm9uLmL",
        "colab": {
          "base_uri": "https://localhost:8080/"
        },
        "outputId": "3c72977e-5190-481d-e9e2-2f8fd071eae5"
      },
      "execution_count": null,
      "outputs": [
        {
          "output_type": "stream",
          "name": "stdout",
          "text": [
            "Accuracy: [ 0.99 ]\n",
            "Final Weights: [[-3.80657242 -2.840821   -3.0719334  -1.4003906   4.9       ]]\n"
          ]
        }
      ]
    },
    {
      "cell_type": "markdown",
      "source": [
        "Discussion:\n",
        "\n",
        "The evaluation dataset was trained on using the same parameters that were used for training on the debug dataset. There appears to be a highly negative correlation between the output and the first and third inputs, while a slightly milder, negative correlation appears to exist between the second and fourth inputs. I am not sure what a final bias weight of 4.9 signifies on a dataset of this dimensionality, but it may simply signify that the threshold for classification is a high one. The perceptron reported an accuracy of 99% after training for 10 epochs."
      ],
      "metadata": {
        "id": "WbZcD5j9urwe"
      }
    },
    {
      "cell_type": "markdown",
      "source": [
        "**2. Classifying on linearly separable and non-linearly separable data**"
      ],
      "metadata": {
        "id": "YTzhyrBYtgLU"
      }
    },
    {
      "cell_type": "markdown",
      "source": [
        "**2.1 (5%) Create 2 datasets**\n",
        "\n",
        "Both with 8 instances using 2 real valued inputs (ranging between -1 and 1) with 4 instances from each class.\n",
        "One data set should be linearly separable and the other not."
      ],
      "metadata": {
        "id": "1Cg8I8YTtgSp"
      }
    },
    {
      "cell_type": "code",
      "source": [
        "# Create 2 datasets\n",
        "seperable = np.array([[0.55, 0.8, 1],\n",
        "                      [0.7, 0.9, 1],\n",
        "                      [0.48, 0.7, 1],\n",
        "                      [0.98, 0.85, 1],\n",
        "                      [-0.4, -0.75, 0],\n",
        "                      [-0.9, -0.8, 0],\n",
        "                      [-0.65, -0.1, 0],\n",
        "                      [-0.725, -0.96, 0]])\n",
        "\n",
        "inseperable = np.array([[0.99, -0.2, 1],\n",
        "                      [-0.5, 0.65, 1],\n",
        "                      [0, -0.7, 0],\n",
        "                      [0.1, -0.9, 0],\n",
        "                      [-0.75, -0.9, 1],\n",
        "                      [0.65, -0.4, 1],\n",
        "                      [-0.2, 0.8, 0],\n",
        "                      [0.3, -0.2, 0]])"
      ],
      "metadata": {
        "id": "h_n-2kX2uglE"
      },
      "execution_count": null,
      "outputs": []
    },
    {
      "cell_type": "markdown",
      "source": [
        "Discussion:\n",
        "\n",
        "The seperable dataset should be easily learnable, as any value with a high x_1 value and high x_2 value will have a classification of 1. A value with a low x_1 value and low x_2 value will have a classification of 0.\n",
        "The insperable dataset has a very random distribution, with no uniform correlation between inputs and output.\n"
      ],
      "metadata": {
        "id": "GIAnIc-JuhTK"
      }
    },
    {
      "cell_type": "markdown",
      "source": [
        "**2.2 (5%) Train on both sets with your perceptron code (with LR=.1)**"
      ],
      "metadata": {
        "id": "6GL1aJLmuv4n"
      }
    },
    {
      "cell_type": "code",
      "source": [
        "# Train on each dataset\n",
        "\n",
        "# Seperable dataset training\n",
        "X_seperable, y_seperable = seperable[:, :-1], seperable[:, -1].reshape(-1,1)\n",
        "p_seperable = PerceptronClassifier(lr = 0.1, shuffle = True)\n",
        "_ = p_seperable.fit(X_seperable, y_seperable)\n",
        "w_s = p_seperable.get_weights()\n",
        "\n",
        "# Inseperable dataset training\n",
        "X_inseperable, y_inseperable = inseperable[:, :-1], inseperable[:, -1].reshape(-1,1)\n",
        "p_inseperable = PerceptronClassifier(lr = 0.1, shuffle = True)\n",
        "_ = p_inseperable.fit(X_inseperable, y_inseperable)\n",
        "w_i = p_inseperable.get_weights()"
      ],
      "metadata": {
        "id": "THPiU3uPu0_o"
      },
      "execution_count": null,
      "outputs": []
    },
    {
      "cell_type": "markdown",
      "source": [
        "Discussion:"
      ],
      "metadata": {
        "id": "R4bk_RY-u2EA"
      }
    },
    {
      "cell_type": "markdown",
      "source": [
        "**2.3 (5%) Graph the datasets and their corresponding decision line**\n",
        "\n",
        "Graph each dataset\n",
        "Use your trained perceptrons above to determine each dataset's decision line\n",
        "For all graphs always label the axes!"
      ],
      "metadata": {
        "id": "ZZblHs-4u6Pq"
      }
    },
    {
      "cell_type": "code",
      "source": [
        "# Graph datasets and decision lines\n",
        "\n",
        "# Linearly Seperable Data\n",
        "line_x_s = [0.25 * i for i in range(-4, 5)]\n",
        "line_y_s = [(w_s[2] - w_s[0] * 0.25 * i)/w_s[1] for i in range(-4, 5)]\n",
        "plt.scatter(X_seperable[:, 0], X_seperable[:, 1], s=25, c=y_seperable, cmap = 'copper')\n",
        "line, = plt.plot(line_x_s, line_y_s, 'r-')\n",
        "line.set_label('Decision Line')\n",
        "plt.legend(loc='upper left', bbox_to_anchor=(0.6, -0.1),\n",
        "          ncol=1, fancybox=True, shadow=True)\n",
        "plt.title('Linearly Seperable Data')\n",
        "plt.xlabel('Input 1')\n",
        "plt.ylabel('Input 2')\n",
        "plt.axis([-1,1,-1,1])\n",
        "plt.show()\n",
        "\n",
        "# Linearly Inseperable Data\n",
        "line_x_is = [0.25 * i for i in range(-4, 5)]\n",
        "line_y_is = [(w_i[2] - w_i[0] * 0.25 * i)/w_i[1] for i in range(-4, 5)]\n",
        "plt.scatter(X_inseperable[:, 0], X_inseperable[:, 1], s=25, c=y_seperable, cmap = 'bwr')\n",
        "line, = plt.plot(line_x_is, line_y_is, 'g-')\n",
        "line.set_label('Decision Line')\n",
        "plt.legend(loc='upper left', bbox_to_anchor=(0.6, -0.1),\n",
        "          ncol=1, fancybox=True, shadow=True)\n",
        "plt.title('Linearly Inseperable Data')\n",
        "plt.xlabel('Input 1')\n",
        "plt.ylabel('Input 2')\n",
        "plt.axis([-1,1,-1,1])\n",
        "plt.show()"
      ],
      "metadata": {
        "id": "sB3QmPIUvCmL",
        "colab": {
          "base_uri": "https://localhost:8080/",
          "height": 601
        },
        "outputId": "faac513c-6726-4567-c989-bc32bb76209b"
      },
      "execution_count": null,
      "outputs": [
        {
          "output_type": "display_data",
          "data": {
            "text/plain": [
              "<Figure size 432x288 with 1 Axes>"
            ],
            "image/png": "[encoded data removed]"
          },
          "metadata": {
            "needs_background": "light"
          }
        },
        {
          "output_type": "display_data",
          "data": {
            "text/plain": [
              "<Figure size 432x288 with 1 Axes>"
            ],
            "image/png": "[encoded data removed]"
          },
          "metadata": {
            "needs_background": "light"
          }
        }
      ]
    },
    {
      "cell_type": "markdown",
      "source": [
        "Discussion:"
      ],
      "metadata": {
        "id": "5dbJuBC0vDH2"
      }
    },
    {
      "cell_type": "markdown",
      "source": [
        "**2.4 (5%) Discuss why the perceptron won’t converge on non-linearly separable data.**\n",
        "\n",
        "Discussion: \n",
        "\n",
        "The perceptron will not converge on non-linearly separable data because the weight vector will constantly move in different directions, with no consistency. Incremental updates to the weight vector will offset changes made to it in past iterations, making prospective weight changes infinite with no predicted improvement in accuracy."
      ],
      "metadata": {
        "id": "rXdcXPYMvFUO"
      }
    },
    {
      "cell_type": "markdown",
      "source": [
        "**3. Use your perceptron code to learn this version of the voting data set.**\n",
        "\n",
        "This particular task is an edited version of the standard voting set, where we have replaced all the “don’t know” values with the most common value for the particular attribute."
      ],
      "metadata": {
        "id": "a5hkn6xKvOMc"
      }
    },
    {
      "cell_type": "markdown",
      "source": [
        "**3.1 (10%) Create a table that reports the final training and test set accuracy and the number of epochs for each trial.**\n",
        "\n",
        "\n",
        "Try it five times with different random 70/30 splits.\n",
        "Use your own code to randomize and make splits.\n",
        "Report the 5 trials and the average across the 5 trials in a table (below is an example of what a smaller table might look like).\n",
        "As a rough sanity check, typical Perceptron test accuracies for the voting data set are 90%-98%."
      ],
      "metadata": {
        "id": "z_75AEyXvQNX"
      }
    },
    {
      "cell_type": "code",
      "source": [
        "!curl -o voting_data.arff https://raw.githubusercontent.com/cs472ta/CS472/master/datasets/voting-dataset.arff\n",
        "voting_data = arff.loadarff('voting_data.arff')\n",
        "voting_df = pd.DataFrame(voting_data[0])\n",
        "voting_label_encoded_df = voting_df.apply(LabelEncoder().fit_transform)\n",
        "npa = np.array(voting_label_encoded_df)\n",
        "X_voting, y_voting = npa[:,:-1], npa[:,-1].reshape(-1,1)\n",
        "\n",
        "# 0 = yes, 1 = yes\n",
        "# 0 = Democrat, 1 = Republican"
      ],
      "metadata": {
        "id": "c9q6A4FQvdzX",
        "colab": {
          "base_uri": "https://localhost:8080/"
        },
        "outputId": "364c74ee-192a-4395-a7df-4f0e5c57a7b2"
      },
      "execution_count": null,
      "outputs": [
        {
          "output_type": "stream",
          "name": "stdout",
          "text": [
            "  % Total    % Received % Xferd  Average Speed   Time    Time     Time  Current\n",
            "                                 Dload  Upload   Total   Spent    Left  Speed\n",
            "\r  0     0    0     0    0     0      0      0 --:--:-- --:--:-- --:--:--     0\r100 43825  100 43825    0     0   350k      0 --:--:-- --:--:-- --:--:--  350k\n"
          ]
        }
      ]
    },
    {
      "cell_type": "code",
      "source": [
        "# Create the table any way you like\n",
        "\n",
        "results = pd.DataFrame(columns=['Trial', 'Training Accuracy', 'Test Accuracy', 'Number of Epochs'])\n",
        "weights = np.zeros((5, 17))\n",
        "misclassifications = []\n",
        "\n",
        "for i in range(1, 6):\n",
        "  p_voting = PerceptronClassifier()\n",
        "  _ = p_voting.fit(X_voting, y_voting)\n",
        "  weights[i-1] = p_voting.get_weights().reshape(1,-1)\n",
        "  misclassifications.append(p_voting.get_missclassifications())\n",
        "  results.loc[len(results.index)] = [i, p_voting.get_training_accuracy(), p_voting.get_test_accuracy(), int(p_voting.get_epochs_count())]\n",
        "\n",
        "results.loc[len(results.index)] = ['Average', results['Training Accuracy'].mean(), results['Test Accuracy'].mean(), results['Number of Epochs'].mean()]\n",
        "#misclassification_data \n",
        "#print(misclassifications)\n",
        "mcDf = pd.DataFrame(misclassifications)\n",
        "avg_misclassification_rates = np.mean(mcDf, 0)"
      ],
      "metadata": {
        "id": "Vb89eDuptX5r"
      },
      "execution_count": null,
      "outputs": []
    },
    {
      "cell_type": "code",
      "source": [
        "import plotly.graph_objects as go\n",
        "\n",
        "fig = go.Figure(data=[go.Table(\n",
        "    columnwidth = [50, 50, 50, 50],\n",
        "    header=dict(values=list(results.columns),\n",
        "                 fill_color='royalblue',\n",
        "                align='left',\n",
        "                line_color='gray',\n",
        "                font=dict(color='white', size=12),),\n",
        "    cells=dict(values=[results['Trial'], results['Training Accuracy'], results['Test Accuracy'], results['Number of Epochs']],\n",
        "                fill_color=[['lightgray','white','lightgray', 'white','lightgray','white']*4],\n",
        "                align='left',\n",
        "                line_color='gray',\n",
        "                font=dict(color='black', size=12)))\n",
        "    ])\n",
        "\n",
        "fig.show()"
      ],
      "metadata": {
        "colab": {
          "base_uri": "https://localhost:8080/",
          "height": 542
        },
        "id": "Dz-HOItmuj8C",
        "outputId": "dc6478c8-e29d-4935-f967-5c51881d9f58"
      },
      "execution_count": null,
      "outputs": [
        {
          "output_type": "display_data",
          "data": {
            "text/html": [
              "<html>\n",
              "<head><meta charset=\"utf-8\" /></head>\n",
              "<body>\n",
              "    <div>            <script src=\"https://cdnjs.cloudflare.com/ajax/libs/mathjax/2.7.5/MathJax.js?config=TeX-AMS-MML_SVG\"></script><script type=\"text/javascript\">if (window.MathJax) {MathJax.Hub.Config({SVG: {font: \"STIX-Web\"}});}</script>                <script type=\"text/javascript\">window.PlotlyConfig = {MathJaxConfig: 'local'};</script>\n",
              "        <script src=\"https://cdn.plot.ly/plotly-2.8.3.min.js\"></script>                <div id=\"373d3f6c-bfe1-496e-94a9-a6edf854baba\" class=\"plotly-graph-div\" style=\"height:525px; width:100%;\"></div>            <script type=\"text/javascript\">                                    window.PLOTLYENV=window.PLOTLYENV || {};                                    if (document.getElementById(\"373d3f6c-bfe1-496e-94a9-a6edf854baba\")) {                    Plotly.newPlot(                        \"373d3f6c-bfe1-496e-94a9-a6edf854baba\",                        [{\"cells\":{\"align\":\"left\",\"fill\":{\"color\":[[\"lightgray\",\"white\",\"lightgray\",\"white\",\"lightgray\",\"white\",\"lightgray\",\"white\",\"lightgray\",\"white\",\"lightgray\",\"white\",\"lightgray\",\"white\",\"lightgray\",\"white\",\"lightgray\",\"white\",\"lightgray\",\"white\",\"lightgray\",\"white\",\"lightgray\",\"white\"]]},\"font\":{\"color\":\"black\",\"size\":12},\"line\":{\"color\":\"gray\"},\"values\":[[1.0,2.0,3.0,4.0,5.0,\"Average\"],[0.94,0.96,0.99,0.96,0.96,0.962],[0.94,0.96,0.99,0.96,0.96,0.962],[7.0,7.0,15.0,9.0,9.0,9.4]]},\"columnwidth\":[50,50,50,50],\"header\":{\"align\":\"left\",\"fill\":{\"color\":\"royalblue\"},\"font\":{\"color\":\"white\",\"size\":12},\"line\":{\"color\":\"gray\"},\"values\":[\"Trial\",\"Training Accuracy\",\"Test Accuracy\",\"Number of Epochs\"]},\"type\":\"table\"}],                        {\"template\":{\"data\":{\"bar\":[{\"error_x\":{\"color\":\"#2a3f5f\"},\"error_y\":{\"color\":\"#2a3f5f\"},\"marker\":{\"line\":{\"color\":\"#E5ECF6\",\"width\":0.5},\"pattern\":{\"fillmode\":\"overlay\",\"size\":10,\"solidity\":0.2}},\"type\":\"bar\"}],\"barpolar\":[{\"marker\":{\"line\":{\"color\":\"#E5ECF6\",\"width\":0.5},\"pattern\":{\"fillmode\":\"overlay\",\"size\":10,\"solidity\":0.2}},\"type\":\"barpolar\"}],\"carpet\":[{\"aaxis\":{\"endlinecolor\":\"#2a3f5f\",\"gridcolor\":\"white\",\"linecolor\":\"white\",\"minorgridcolor\":\"white\",\"startlinecolor\":\"#2a3f5f\"},\"baxis\":{\"endlinecolor\":\"#2a3f5f\",\"gridcolor\":\"white\",\"linecolor\":\"white\",\"minorgridcolor\":\"white\",\"startlinecolor\":\"#2a3f5f\"},\"type\":\"carpet\"}],\"choropleth\":[{\"colorbar\":{\"outlinewidth\":0,\"ticks\":\"\"},\"type\":\"choropleth\"}],\"contour\":[{\"colorbar\":{\"outlinewidth\":0,\"ticks\":\"\"},\"colorscale\":[[0.0,\"#0d0887\"],[0.1111111111111111,\"#46039f\"],[0.2222222222222222,\"#7201a8\"],[0.3333333333333333,\"#9c179e\"],[0.4444444444444444,\"#bd3786\"],[0.5555555555555556,\"#d8576b\"],[0.6666666666666666,\"#ed7953\"],[0.7777777777777778,\"#fb9f3a\"],[0.8888888888888888,\"#fdca26\"],[1.0,\"#f0f921\"]],\"type\":\"contour\"}],\"contourcarpet\":[{\"colorbar\":{\"outlinewidth\":0,\"ticks\":\"\"},\"type\":\"contourcarpet\"}],\"heatmap\":[{\"colorbar\":{\"outlinewidth\":0,\"ticks\":\"\"},\"colorscale\":[[0.0,\"#0d0887\"],[0.1111111111111111,\"#46039f\"],[0.2222222222222222,\"#7201a8\"],[0.3333333333333333,\"#9c179e\"],[0.4444444444444444,\"#bd3786\"],[0.5555555555555556,\"#d8576b\"],[0.6666666666666666,\"#ed7953\"],[0.7777777777777778,\"#fb9f3a\"],[0.8888888888888888,\"#fdca26\"],[1.0,\"#f0f921\"]],\"type\":\"heatmap\"}],\"heatmapgl\":[{\"colorbar\":{\"outlinewidth\":0,\"ticks\":\"\"},\"colorscale\":[[0.0,\"#0d0887\"],[0.1111111111111111,\"#46039f\"],[0.2222222222222222,\"#7201a8\"],[0.3333333333333333,\"#9c179e\"],[0.4444444444444444,\"#bd3786\"],[0.5555555555555556,\"#d8576b\"],[0.6666666666666666,\"#ed7953\"],[0.7777777777777778,\"#fb9f3a\"],[0.8888888888888888,\"#fdca26\"],[1.0,\"#f0f921\"]],\"type\":\"heatmapgl\"}],\"histogram\":[{\"marker\":{\"pattern\":{\"fillmode\":\"overlay\",\"size\":10,\"solidity\":0.2}},\"type\":\"histogram\"}],\"histogram2d\":[{\"colorbar\":{\"outlinewidth\":0,\"ticks\":\"\"},\"colorscale\":[[0.0,\"#0d0887\"],[0.1111111111111111,\"#46039f\"],[0.2222222222222222,\"#7201a8\"],[0.3333333333333333,\"#9c179e\"],[0.4444444444444444,\"#bd3786\"],[0.5555555555555556,\"#d8576b\"],[0.6666666666666666,\"#ed7953\"],[0.7777777777777778,\"#fb9f3a\"],[0.8888888888888888,\"#fdca26\"],[1.0,\"#f0f921\"]],\"type\":\"histogram2d\"}],\"histogram2dcontour\":[{\"colorbar\":{\"outlinewidth\":0,\"ticks\":\"\"},\"colorscale\":[[0.0,\"#0d0887\"],[0.1111111111111111,\"#46039f\"],[0.2222222222222222,\"#7201a8\"],[0.3333333333333333,\"#9c179e\"],[0.4444444444444444,\"#bd3786\"],[0.5555555555555556,\"#d8576b\"],[0.6666666666666666,\"#ed7953\"],[0.7777777777777778,\"#fb9f3a\"],[0.8888888888888888,\"#fdca26\"],[1.0,\"#f0f921\"]],\"type\":\"histogram2dcontour\"}],\"mesh3d\":[{\"colorbar\":{\"outlinewidth\":0,\"ticks\":\"\"},\"type\":\"mesh3d\"}],\"parcoords\":[{\"line\":{\"colorbar\":{\"outlinewidth\":0,\"ticks\":\"\"}},\"type\":\"parcoords\"}],\"pie\":[{\"automargin\":true,\"type\":\"pie\"}],\"scatter\":[{\"marker\":{\"colorbar\":{\"outlinewidth\":0,\"ticks\":\"\"}},\"type\":\"scatter\"}],\"scatter3d\":[{\"line\":{\"colorbar\":{\"outlinewidth\":0,\"ticks\":\"\"}},\"marker\":{\"colorbar\":{\"outlinewidth\":0,\"ticks\":\"\"}},\"type\":\"scatter3d\"}],\"scattercarpet\":[{\"marker\":{\"colorbar\":{\"outlinewidth\":0,\"ticks\":\"\"}},\"type\":\"scattercarpet\"}],\"scattergeo\":[{\"marker\":{\"colorbar\":{\"outlinewidth\":0,\"ticks\":\"\"}},\"type\":\"scattergeo\"}],\"scattergl\":[{\"marker\":{\"colorbar\":{\"outlinewidth\":0,\"ticks\":\"\"}},\"type\":\"scattergl\"}],\"scattermapbox\":[{\"marker\":{\"colorbar\":{\"outlinewidth\":0,\"ticks\":\"\"}},\"type\":\"scattermapbox\"}],\"scatterpolar\":[{\"marker\":{\"colorbar\":{\"outlinewidth\":0,\"ticks\":\"\"}},\"type\":\"scatterpolar\"}],\"scatterpolargl\":[{\"marker\":{\"colorbar\":{\"outlinewidth\":0,\"ticks\":\"\"}},\"type\":\"scatterpolargl\"}],\"scatterternary\":[{\"marker\":{\"colorbar\":{\"outlinewidth\":0,\"ticks\":\"\"}},\"type\":\"scatterternary\"}],\"surface\":[{\"colorbar\":{\"outlinewidth\":0,\"ticks\":\"\"},\"colorscale\":[[0.0,\"#0d0887\"],[0.1111111111111111,\"#46039f\"],[0.2222222222222222,\"#7201a8\"],[0.3333333333333333,\"#9c179e\"],[0.4444444444444444,\"#bd3786\"],[0.5555555555555556,\"#d8576b\"],[0.6666666666666666,\"#ed7953\"],[0.7777777777777778,\"#fb9f3a\"],[0.8888888888888888,\"#fdca26\"],[1.0,\"#f0f921\"]],\"type\":\"surface\"}],\"table\":[{\"cells\":{\"fill\":{\"color\":\"#EBF0F8\"},\"line\":{\"color\":\"white\"}},\"header\":{\"fill\":{\"color\":\"#C8D4E3\"},\"line\":{\"color\":\"white\"}},\"type\":\"table\"}]},\"layout\":{\"annotationdefaults\":{\"arrowcolor\":\"#2a3f5f\",\"arrowhead\":0,\"arrowwidth\":1},\"autotypenumbers\":\"strict\",\"coloraxis\":{\"colorbar\":{\"outlinewidth\":0,\"ticks\":\"\"}},\"colorscale\":{\"diverging\":[[0,\"#8e0152\"],[0.1,\"#c51b7d\"],[0.2,\"#de77ae\"],[0.3,\"#f1b6da\"],[0.4,\"#fde0ef\"],[0.5,\"#f7f7f7\"],[0.6,\"#e6f5d0\"],[0.7,\"#b8e186\"],[0.8,\"#7fbc41\"],[0.9,\"#4d9221\"],[1,\"#276419\"]],\"sequential\":[[0.0,\"#0d0887\"],[0.1111111111111111,\"#46039f\"],[0.2222222222222222,\"#7201a8\"],[0.3333333333333333,\"#9c179e\"],[0.4444444444444444,\"#bd3786\"],[0.5555555555555556,\"#d8576b\"],[0.6666666666666666,\"#ed7953\"],[0.7777777777777778,\"#fb9f3a\"],[0.8888888888888888,\"#fdca26\"],[1.0,\"#f0f921\"]],\"sequentialminus\":[[0.0,\"#0d0887\"],[0.1111111111111111,\"#46039f\"],[0.2222222222222222,\"#7201a8\"],[0.3333333333333333,\"#9c179e\"],[0.4444444444444444,\"#bd3786\"],[0.5555555555555556,\"#d8576b\"],[0.6666666666666666,\"#ed7953\"],[0.7777777777777778,\"#fb9f3a\"],[0.8888888888888888,\"#fdca26\"],[1.0,\"#f0f921\"]]},\"colorway\":[\"#636efa\",\"#EF553B\",\"#00cc96\",\"#ab63fa\",\"#FFA15A\",\"#19d3f3\",\"#FF6692\",\"#B6E880\",\"#FF97FF\",\"#FECB52\"],\"font\":{\"color\":\"#2a3f5f\"},\"geo\":{\"bgcolor\":\"white\",\"lakecolor\":\"white\",\"landcolor\":\"#E5ECF6\",\"showlakes\":true,\"showland\":true,\"subunitcolor\":\"white\"},\"hoverlabel\":{\"align\":\"left\"},\"hovermode\":\"closest\",\"mapbox\":{\"style\":\"light\"},\"paper_bgcolor\":\"white\",\"plot_bgcolor\":\"#E5ECF6\",\"polar\":{\"angularaxis\":{\"gridcolor\":\"white\",\"linecolor\":\"white\",\"ticks\":\"\"},\"bgcolor\":\"#E5ECF6\",\"radialaxis\":{\"gridcolor\":\"white\",\"linecolor\":\"white\",\"ticks\":\"\"}},\"scene\":{\"xaxis\":{\"backgroundcolor\":\"#E5ECF6\",\"gridcolor\":\"white\",\"gridwidth\":2,\"linecolor\":\"white\",\"showbackground\":true,\"ticks\":\"\",\"zerolinecolor\":\"white\"},\"yaxis\":{\"backgroundcolor\":\"#E5ECF6\",\"gridcolor\":\"white\",\"gridwidth\":2,\"linecolor\":\"white\",\"showbackground\":true,\"ticks\":\"\",\"zerolinecolor\":\"white\"},\"zaxis\":{\"backgroundcolor\":\"#E5ECF6\",\"gridcolor\":\"white\",\"gridwidth\":2,\"linecolor\":\"white\",\"showbackground\":true,\"ticks\":\"\",\"zerolinecolor\":\"white\"}},\"shapedefaults\":{\"line\":{\"color\":\"#2a3f5f\"}},\"ternary\":{\"aaxis\":{\"gridcolor\":\"white\",\"linecolor\":\"white\",\"ticks\":\"\"},\"baxis\":{\"gridcolor\":\"white\",\"linecolor\":\"white\",\"ticks\":\"\"},\"bgcolor\":\"#E5ECF6\",\"caxis\":{\"gridcolor\":\"white\",\"linecolor\":\"white\",\"ticks\":\"\"}},\"title\":{\"x\":0.05},\"xaxis\":{\"automargin\":true,\"gridcolor\":\"white\",\"linecolor\":\"white\",\"ticks\":\"\",\"title\":{\"standoff\":15},\"zerolinecolor\":\"white\",\"zerolinewidth\":2},\"yaxis\":{\"automargin\":true,\"gridcolor\":\"white\",\"linecolor\":\"white\",\"ticks\":\"\",\"title\":{\"standoff\":15},\"zerolinecolor\":\"white\",\"zerolinewidth\":2}}}},                        {\"responsive\": true}                    ).then(function(){\n",
              "                            \n",
              "var gd = document.getElementById('373d3f6c-bfe1-496e-94a9-a6edf854baba');\n",
              "var x = new MutationObserver(function (mutations, observer) {{\n",
              "        var display = window.getComputedStyle(gd).display;\n",
              "        if (!display || display === 'none') {{\n",
              "            console.log([gd, 'removed!']);\n",
              "            Plotly.purge(gd);\n",
              "            observer.disconnect();\n",
              "        }}\n",
              "}});\n",
              "\n",
              "// Listen for the removal of the full notebook cells\n",
              "var notebookContainer = gd.closest('#notebook-container');\n",
              "if (notebookContainer) {{\n",
              "    x.observe(notebookContainer, {childList: true});\n",
              "}}\n",
              "\n",
              "// Listen for the clearing of the current output cell\n",
              "var outputEl = gd.closest('.output');\n",
              "if (outputEl) {{\n",
              "    x.observe(outputEl, {childList: true});\n",
              "}}\n",
              "\n",
              "                        })                };                            </script>        </div>\n",
              "</body>\n",
              "</html>"
            ]
          },
          "metadata": {}
        }
      ]
    },
    {
      "cell_type": "code",
      "source": [
        "a = np.arange(1,18)\n",
        "plt.plot(a,np.mean(weights,0))\n",
        "plt.show()"
      ],
      "metadata": {
        "colab": {
          "base_uri": "https://localhost:8080/",
          "height": 265
        },
        "id": "diFThddiwnRR",
        "outputId": "9a3afe0f-5a9a-4964-82cb-09d60f7e669f"
      },
      "execution_count": null,
      "outputs": [
        {
          "output_type": "display_data",
          "data": {
            "text/plain": [
              "<Figure size 432x288 with 1 Axes>"
            ],
            "image/png": "[encoded data removed]"
          },
          "metadata": {
            "needs_background": "light"
          }
        }
      ]
    },
    {
      "cell_type": "markdown",
      "source": [
        "Discussion:"
      ],
      "metadata": {
        "id": "joP2bRwqvf93"
      }
    },
    {
      "cell_type": "markdown",
      "source": [
        "**3.2 (5%) By looking at the weights, do your best to explain what the model has learned and how the individual input features affect the result. Which specific features are most critical for the voting task, and which are least critical?**\n",
        "\n",
        "Explanation:\n",
        "\n",
        "The model has learned that 'yes' answers to questions 3 (water-project-cost-sharing), 9 (aid-to-nicaraguan-contras), 11 (immigration) and 17 (export-administration-act-south-africa) are the best predictors of a democratic voter. On the other hand, it has learned that 'yes' answers to questions 4 (adoption-of-the-budget-resolution), 5 (physician-fee-freeze), 7 (religious-groups-in-schools), 8 (anti-satellite-test-ban) and 10 (mx-missile) are the best predictors for a republican voter. Features less critical to the voting task include questions 1, 2, 6, 12, 13, 14 and 16. "
      ],
      "metadata": {
        "id": "4yKijyemvjO8"
      }
    },
    {
      "cell_type": "markdown",
      "source": [
        "**3.3 (5%) Make a graph of the average misclassification rate vs epochs (0th – final epoch).**\n",
        "\n",
        "Average the misclassification rate for the training set across your 5 trials (not across 5 epochs): mean(number misclassified / number of total data points) vs epoch\n",
        "For larger number epochs, only include in the average those runs that trained for at least that length"
      ],
      "metadata": {
        "id": "Uo5zFRERvq1x"
      }
    },
    {
      "cell_type": "code",
      "source": [
        "# Graph here\n",
        "    \n",
        "def plot_misclassification(avg_misclassification_rate):\n",
        "    \"\"\"\n",
        "        Plots the average misclassification rate\n",
        "    Args:\n",
        "        avg_misclassification_rate (array-like): A 1D array or list\n",
        "    \"\"\"\n",
        "    plt.plot(np.arange(len(avg_misclassification_rate)), avg_misclassification_rate)\n",
        "    plt.title(\"Average Misclassification Rate vs. Epoch\")\n",
        "    plt.axis([0,len(avg_misclassification_rate),0,1])\n",
        "    plt.xticks(np.arange(0, len(avg_misclassification_rate)))\n",
        "    plt.xlabel(\"Epoch\")\n",
        "    plt.ylabel(\"Misclassification Rate\")\n",
        "    plt.show()\n",
        "\n",
        "plot_misclassification(avg_misclassification_rates)"
      ],
      "metadata": {
        "id": "4eBsfIuAvwGn",
        "colab": {
          "base_uri": "https://localhost:8080/",
          "height": 295
        },
        "outputId": "aeb29cbd-14aa-41d0-dea1-b57daa264d96"
      },
      "execution_count": null,
      "outputs": [
        {
          "output_type": "display_data",
          "data": {
            "text/plain": [
              "<Figure size 432x288 with 1 Axes>"
            ],
            "image/png": "[encoded data removed]"
          },
          "metadata": {
            "needs_background": "light"
          }
        }
      ]
    },
    {
      "cell_type": "markdown",
      "source": [
        "Discussion:\n",
        "\n",
        "Because of the large number of instances in this dataset, the model was able to achieve high accuracy on the test set after only one epoch. The average misclassification rate bottomed out at around 4.5% across the five trials. This model is now very good at predicting the political party of democratic and republican voters based on respondents' votes on specific issues."
      ],
      "metadata": {
        "id": "BexUtF9Ovx9w"
      }
    },
    {
      "cell_type": "markdown",
      "source": [
        "**4.1 (10%) Use the perceptron algorithm from the scikit-learn toolkit to learn the voting task above.**\n",
        "\n",
        "Report and compare your results with your own perceptron code.\n",
        "Try out some of the hyper-parameters that scikit-learn makes available for the perceptron and discuss your findings. Record your impressions of how scikit-learn works."
      ],
      "metadata": {
        "id": "YG5n3k7tv0d2"
      }
    },
    {
      "cell_type": "code",
      "source": [
        "# Load sklearn perceptron\n",
        "P_skl = Perceptron()\n",
        "\n",
        "# Train on voting dataset\n",
        "_ = P_skl.fit(X_voting, y_voting.reshape(-1,))\n",
        "P_skl.score(X_voting, y_voting.reshape(-1,))"
      ],
      "metadata": {
        "id": "7d7d3smKv5KR",
        "colab": {
          "base_uri": "https://localhost:8080/"
        },
        "outputId": "3cf842d4-3e45-4cdd-edf5-d05009b5b808"
      },
      "execution_count": null,
      "outputs": [
        {
          "output_type": "execute_result",
          "data": {
            "text/plain": [
              "0.9609544468546638"
            ]
          },
          "metadata": {},
          "execution_count": 195
        }
      ]
    },
    {
      "cell_type": "markdown",
      "source": [
        "Report your comparison and discuss your findings:\n",
        "\n",
        "The scikitlearn perceptron package was incredibly easy to use, I was very surprised. My perceptron averaged an almost identical accuracy over five iterations as the scikitlearn perceptron did, which I had not at all expected. My expecatation had been that the scikitlearn version would beat mine in accuracy by at least two percentage points. This comparison seems to imply that my perceptron algorithm and the scikitlearn algorithm are virtually intergangable when learning on this particular dataset. Because my algorithm (and hopefully the scikitlearn version as well) reverts to a past weight vector after no improvement has been reported after five epochs, this model should not be too overfitting of this data. I bet that it would predict decently well on novel data."
      ],
      "metadata": {
        "id": "4jkor7nuv52n"
      }
    },
    {
      "cell_type": "markdown",
      "source": [
        "**4.2 (10%) Use the perceptron algorithm from the scikit-learn toolkit to learn one other data set of your choice.**\n",
        "\n",
        "The UC Irvine Data Repository is a great source, but you may get your data set from wherever you like, though it should represent a real world task.\n",
        "Try out some of the hyper-parameters that scikit-learn makes available."
      ],
      "metadata": {
        "id": "0beh2-bqv-S4"
      }
    },
    {
      "cell_type": "code",
      "source": [
        "!curl -o cryotherapy_data.xlsx https://archive.ics.uci.edu/ml/machine-learning-databases/00429/Cryotherapy.xlsx\n",
        "cryotherapy_df = pd.read_excel('cryotherapy_data.xlsx')\n",
        "cryo_npa = np.array(cryotherapy_df)\n",
        "X_cryo, y_cryo = cryo_npa[:,:-1], cryo_npa[:,-1]"
      ],
      "metadata": {
        "id": "89jXQlxYQKxB"
      },
      "execution_count": null,
      "outputs": []
    },
    {
      "cell_type": "code",
      "source": [
        "# Load sklearn perceptron\n",
        "P_skl_cryo = Perceptron(alpha = 0.001, fit_intercept=False, random_state=1, early_stopping=True, n_iter_no_change=4, validation_fraction=0.2, )\n",
        "\n",
        "# Train on your dataset\n",
        "_ = P_skl_cryo.fit(X_cryo, y_cryo)\n",
        "P_skl_cryo.score(X_cryo, y_cryo)"
      ],
      "metadata": {
        "id": "fjmWGHldwC2r",
        "colab": {
          "base_uri": "https://localhost:8080/"
        },
        "outputId": "07b2e722-75bb-4162-9b4b-d82e559b97b6"
      },
      "execution_count": null,
      "outputs": [
        {
          "output_type": "execute_result",
          "data": {
            "text/plain": [
              "0.4888888888888889"
            ]
          },
          "metadata": {},
          "execution_count": 204
        }
      ]
    },
    {
      "cell_type": "markdown",
      "source": [
        "Discuss your findings and hyperparameters used:\n",
        "\n",
        "The sklearn perceptron really struggled to learn this cryotherapy dataset I handed it, reporting only 48.9% accuracy. The hyperparameter 'alpha' gives a scalar to use in the regularization function, which I set to 0.001 (10x higher than the default). 'fit_intercept', I assume, tells whether to add bias weights to the data instances, which I set to False. The random_state hyperparameter acts like a seed to make data shuffling reproducible across calls. 'early_stopping' and 'n_iter_no_change' are two hyperparameters that tell whether the perceptron should stop after no improvement is seen on the test set or not, which help prevent overfitting. 'validation_fraction' is a number between 0 and 1 that tells what percentage of the data to set aside as a test set to validate on after each epoch."
      ],
      "metadata": {
        "id": "6Wyw6XQ8wDcc"
      }
    },
    {
      "cell_type": "markdown",
      "source": [
        "**5. (Optional 5% extra credit) Use the perceptron rule to learn the iris task or some other task with more than two possible output values.**\n",
        "\n",
        "Note that the iris data set has 3 output classes, and a perceptron node only has two possible outputs. You could implement an approach to deal with this like we discussed in class (review in slides). For testing you just execute the novel instance on each model and report the results. You could break ties using net values but that is not required for this part."
      ],
      "metadata": {
        "id": "pIfxnruewIE2"
      }
    },
    {
      "cell_type": "code",
      "source": [
        "# Code here"
      ],
      "metadata": {
        "id": "oJ2lmpgawLv8"
      },
      "execution_count": null,
      "outputs": []
    },
    {
      "cell_type": "markdown",
      "source": [
        "Discussion:"
      ],
      "metadata": {
        "id": "BeEF9K2fwMG7"
      }
    }
  ]
}